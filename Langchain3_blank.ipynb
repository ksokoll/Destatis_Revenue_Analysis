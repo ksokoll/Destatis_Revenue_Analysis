{
  "cells": [
    {
      "cell_type": "markdown",
      "metadata": {
        "id": "view-in-github",
        "colab_type": "text"
      },
      "source": [
        "<a href=\"https://colab.research.google.com/github/ksokoll/Destatis_Revenue_Analysis/blob/main/Langchain3_blank.ipynb\" target=\"_parent\"><img src=\"https://colab.research.google.com/assets/colab-badge.svg\" alt=\"Open In Colab\"/></a>"
      ]
    },
    {
      "cell_type": "code",
      "source": [
        "\"\"\"\n",
        "Willkommen beim POC des Multiagenten-Frameworks basierend auf Langchain mit Majority-\n",
        "Voting Funktion.\n",
        "\n",
        "High-Level Funktionsweise des Agenten:\n",
        "\n",
        "1. Aufgabe: Agent soll eines von 7 Szenarien auswählen. Hierzu stehen ihm verschiedene Tools zur Verfügung\n",
        "2. Versuchsaufbau: Als Input erhält der Agent das Rechnungsbuchungs-Szenario mit 7 Beispielszenarien, sowie zusätzlichen Informationen\n",
        "  zu den auf der Rechnung vorkommenden Bestellnummern, sowie einen Schriftverkehr mit einem fiktiven Besteller.\n",
        "3. Genutzte Techniken: Regel-Prompt mit vordefiniertem Antwortformat, Langchain-Tools, Self-Refinement und Majority-Voting\n",
        "\n",
        "Lessons Learned:\n",
        "\n",
        "1. gpt-4o-mini als Modell reicht zum testen aus. Selbst mehrere hundert Durchläufe verursachen Kosten von maximal 30 Cent.\n",
        "  Wechselt man auf gpt-4o erhöhen sich die Kosten massiv, sollte nur für wenige Tests genutzt werden oder wenn der Arbeitgeber die Token zahlt.\n",
        "\n",
        "2. Das Majority-Voting hat die Ergebnisse verbessert, der Sweet Spot wie viele Votes durchgeführt werden sollen ist aber nicht gefunden. Ziel ist aus Performance-Gründen\n",
        "  stets, nur so viele Durchläufe wie Nötig für eine gewisse erwartete Genauigkeit durchzuführen.\n",
        "\n",
        "3. Eine Ausführung dauert teils 10-20 Minuten, je nach Anzahl der Durchläufe für das Voting. Dies macht dieses Setup nur für die Abarbeitung von\n",
        "  nicht-Zeitkritischen Batchjobs interessant, oder für asynchrone Kommunikation via Mail. Für eine synchrone Kommunikation z.B. via Chat muss entweder\n",
        "  ein anderes Framework benutzt, oder die Performance massiv verbessert werden.\n",
        "\n",
        "\n",
        "\"\"\""
      ],
      "metadata": {
        "id": "VwisBYcaqkZT"
      },
      "execution_count": null,
      "outputs": []
    },
    {
      "cell_type": "code",
      "execution_count": null,
      "metadata": {
        "colab": {
          "base_uri": "https://localhost:8080/"
        },
        "collapsed": true,
        "id": "oMFxchCPYdrv",
        "outputId": "87278023-7067-4c11-fa8d-f24850d78dc9"
      },
      "outputs": [
        {
          "output_type": "stream",
          "name": "stdout",
          "text": [
            "Collecting langchain\n",
            "  Downloading langchain-0.3.2-py3-none-any.whl.metadata (7.1 kB)\n",
            "Requirement already satisfied: PyYAML>=5.3 in /usr/local/lib/python3.10/dist-packages (from langchain) (6.0.2)\n",
            "Requirement already satisfied: SQLAlchemy<3,>=1.4 in /usr/local/lib/python3.10/dist-packages (from langchain) (2.0.35)\n",
            "Requirement already satisfied: aiohttp<4.0.0,>=3.8.3 in /usr/local/lib/python3.10/dist-packages (from langchain) (3.10.8)\n",
            "Requirement already satisfied: async-timeout<5.0.0,>=4.0.0 in /usr/local/lib/python3.10/dist-packages (from langchain) (4.0.3)\n",
            "Collecting langchain-core<0.4.0,>=0.3.8 (from langchain)\n",
            "  Downloading langchain_core-0.3.9-py3-none-any.whl.metadata (6.3 kB)\n",
            "Collecting langchain-text-splitters<0.4.0,>=0.3.0 (from langchain)\n",
            "  Downloading langchain_text_splitters-0.3.0-py3-none-any.whl.metadata (2.3 kB)\n",
            "Collecting langsmith<0.2.0,>=0.1.17 (from langchain)\n",
            "  Downloading langsmith-0.1.131-py3-none-any.whl.metadata (13 kB)\n",
            "Requirement already satisfied: numpy<2,>=1 in /usr/local/lib/python3.10/dist-packages (from langchain) (1.26.4)\n",
            "Requirement already satisfied: pydantic<3.0.0,>=2.7.4 in /usr/local/lib/python3.10/dist-packages (from langchain) (2.9.2)\n",
            "Requirement already satisfied: requests<3,>=2 in /usr/local/lib/python3.10/dist-packages (from langchain) (2.32.3)\n",
            "Collecting tenacity!=8.4.0,<9.0.0,>=8.1.0 (from langchain)\n",
            "  Downloading tenacity-8.5.0-py3-none-any.whl.metadata (1.2 kB)\n",
            "Requirement already satisfied: aiohappyeyeballs>=2.3.0 in /usr/local/lib/python3.10/dist-packages (from aiohttp<4.0.0,>=3.8.3->langchain) (2.4.3)\n",
            "Requirement already satisfied: aiosignal>=1.1.2 in /usr/local/lib/python3.10/dist-packages (from aiohttp<4.0.0,>=3.8.3->langchain) (1.3.1)\n",
            "Requirement already satisfied: attrs>=17.3.0 in /usr/local/lib/python3.10/dist-packages (from aiohttp<4.0.0,>=3.8.3->langchain) (24.2.0)\n",
            "Requirement already satisfied: frozenlist>=1.1.1 in /usr/local/lib/python3.10/dist-packages (from aiohttp<4.0.0,>=3.8.3->langchain) (1.4.1)\n",
            "Requirement already satisfied: multidict<7.0,>=4.5 in /usr/local/lib/python3.10/dist-packages (from aiohttp<4.0.0,>=3.8.3->langchain) (6.1.0)\n",
            "Requirement already satisfied: yarl<2.0,>=1.12.0 in /usr/local/lib/python3.10/dist-packages (from aiohttp<4.0.0,>=3.8.3->langchain) (1.13.1)\n",
            "Collecting jsonpatch<2.0,>=1.33 (from langchain-core<0.4.0,>=0.3.8->langchain)\n",
            "  Downloading jsonpatch-1.33-py2.py3-none-any.whl.metadata (3.0 kB)\n",
            "Requirement already satisfied: packaging<25,>=23.2 in /usr/local/lib/python3.10/dist-packages (from langchain-core<0.4.0,>=0.3.8->langchain) (24.1)\n",
            "Requirement already satisfied: typing-extensions>=4.7 in /usr/local/lib/python3.10/dist-packages (from langchain-core<0.4.0,>=0.3.8->langchain) (4.12.2)\n",
            "Collecting httpx<1,>=0.23.0 (from langsmith<0.2.0,>=0.1.17->langchain)\n",
            "  Downloading httpx-0.27.2-py3-none-any.whl.metadata (7.1 kB)\n",
            "Collecting orjson<4.0.0,>=3.9.14 (from langsmith<0.2.0,>=0.1.17->langchain)\n",
            "  Downloading orjson-3.10.7-cp310-cp310-manylinux_2_17_x86_64.manylinux2014_x86_64.whl.metadata (50 kB)\n",
            "\u001b[2K     \u001b[90m━━━━━━━━━━━━━━━━━━━━━━━━━━━━━━━━━━━━━━━━\u001b[0m \u001b[32m50.4/50.4 kB\u001b[0m \u001b[31m1.1 MB/s\u001b[0m eta \u001b[36m0:00:00\u001b[0m\n",
            "\u001b[?25hCollecting requests-toolbelt<2.0.0,>=1.0.0 (from langsmith<0.2.0,>=0.1.17->langchain)\n",
            "  Downloading requests_toolbelt-1.0.0-py2.py3-none-any.whl.metadata (14 kB)\n",
            "Requirement already satisfied: annotated-types>=0.6.0 in /usr/local/lib/python3.10/dist-packages (from pydantic<3.0.0,>=2.7.4->langchain) (0.7.0)\n",
            "Requirement already satisfied: pydantic-core==2.23.4 in /usr/local/lib/python3.10/dist-packages (from pydantic<3.0.0,>=2.7.4->langchain) (2.23.4)\n",
            "Requirement already satisfied: charset-normalizer<4,>=2 in /usr/local/lib/python3.10/dist-packages (from requests<3,>=2->langchain) (3.3.2)\n",
            "Requirement already satisfied: idna<4,>=2.5 in /usr/local/lib/python3.10/dist-packages (from requests<3,>=2->langchain) (3.10)\n",
            "Requirement already satisfied: urllib3<3,>=1.21.1 in /usr/local/lib/python3.10/dist-packages (from requests<3,>=2->langchain) (2.2.3)\n",
            "Requirement already satisfied: certifi>=2017.4.17 in /usr/local/lib/python3.10/dist-packages (from requests<3,>=2->langchain) (2024.8.30)\n",
            "Requirement already satisfied: greenlet!=0.4.17 in /usr/local/lib/python3.10/dist-packages (from SQLAlchemy<3,>=1.4->langchain) (3.1.1)\n",
            "Requirement already satisfied: anyio in /usr/local/lib/python3.10/dist-packages (from httpx<1,>=0.23.0->langsmith<0.2.0,>=0.1.17->langchain) (3.7.1)\n",
            "Collecting httpcore==1.* (from httpx<1,>=0.23.0->langsmith<0.2.0,>=0.1.17->langchain)\n",
            "  Downloading httpcore-1.0.6-py3-none-any.whl.metadata (21 kB)\n",
            "Requirement already satisfied: sniffio in /usr/local/lib/python3.10/dist-packages (from httpx<1,>=0.23.0->langsmith<0.2.0,>=0.1.17->langchain) (1.3.1)\n",
            "Collecting h11<0.15,>=0.13 (from httpcore==1.*->httpx<1,>=0.23.0->langsmith<0.2.0,>=0.1.17->langchain)\n",
            "  Downloading h11-0.14.0-py3-none-any.whl.metadata (8.2 kB)\n",
            "Collecting jsonpointer>=1.9 (from jsonpatch<2.0,>=1.33->langchain-core<0.4.0,>=0.3.8->langchain)\n",
            "  Downloading jsonpointer-3.0.0-py2.py3-none-any.whl.metadata (2.3 kB)\n",
            "Requirement already satisfied: exceptiongroup in /usr/local/lib/python3.10/dist-packages (from anyio->httpx<1,>=0.23.0->langsmith<0.2.0,>=0.1.17->langchain) (1.2.2)\n",
            "Downloading langchain-0.3.2-py3-none-any.whl (1.0 MB)\n",
            "\u001b[2K   \u001b[90m━━━━━━━━━━━━━━━━━━━━━━━━━━━━━━━━━━━━━━━━\u001b[0m \u001b[32m1.0/1.0 MB\u001b[0m \u001b[31m9.9 MB/s\u001b[0m eta \u001b[36m0:00:00\u001b[0m\n",
            "\u001b[?25hDownloading langchain_core-0.3.9-py3-none-any.whl (401 kB)\n",
            "\u001b[2K   \u001b[90m━━━━━━━━━━━━━━━━━━━━━━━━━━━━━━━━━━━━━━━━\u001b[0m \u001b[32m401.8/401.8 kB\u001b[0m \u001b[31m7.8 MB/s\u001b[0m eta \u001b[36m0:00:00\u001b[0m\n",
            "\u001b[?25hDownloading langchain_text_splitters-0.3.0-py3-none-any.whl (25 kB)\n",
            "Downloading langsmith-0.1.131-py3-none-any.whl (294 kB)\n",
            "\u001b[2K   \u001b[90m━━━━━━━━━━━━━━━━━━━━━━━━━━━━━━━━━━━━━━━━\u001b[0m \u001b[32m294.6/294.6 kB\u001b[0m \u001b[31m11.5 MB/s\u001b[0m eta \u001b[36m0:00:00\u001b[0m\n",
            "\u001b[?25hDownloading tenacity-8.5.0-py3-none-any.whl (28 kB)\n",
            "Downloading httpx-0.27.2-py3-none-any.whl (76 kB)\n",
            "\u001b[2K   \u001b[90m━━━━━━━━━━━━━━━━━━━━━━━━━━━━━━━━━━━━━━━━\u001b[0m \u001b[32m76.4/76.4 kB\u001b[0m \u001b[31m4.6 MB/s\u001b[0m eta \u001b[36m0:00:00\u001b[0m\n",
            "\u001b[?25hDownloading httpcore-1.0.6-py3-none-any.whl (78 kB)\n",
            "\u001b[2K   \u001b[90m━━━━━━━━━━━━━━━━━━━━━━━━━━━━━━━━━━━━━━━━\u001b[0m \u001b[32m78.0/78.0 kB\u001b[0m \u001b[31m3.8 MB/s\u001b[0m eta \u001b[36m0:00:00\u001b[0m\n",
            "\u001b[?25hDownloading jsonpatch-1.33-py2.py3-none-any.whl (12 kB)\n",
            "Downloading orjson-3.10.7-cp310-cp310-manylinux_2_17_x86_64.manylinux2014_x86_64.whl (141 kB)\n",
            "\u001b[2K   \u001b[90m━━━━━━━━━━━━━━━━━━━━━━━━━━━━━━━━━━━━━━━━\u001b[0m \u001b[32m141.9/141.9 kB\u001b[0m \u001b[31m7.1 MB/s\u001b[0m eta \u001b[36m0:00:00\u001b[0m\n",
            "\u001b[?25hDownloading requests_toolbelt-1.0.0-py2.py3-none-any.whl (54 kB)\n",
            "\u001b[2K   \u001b[90m━━━━━━━━━━━━━━━━━━━━━━━━━━━━━━━━━━━━━━━━\u001b[0m \u001b[32m54.5/54.5 kB\u001b[0m \u001b[31m3.6 MB/s\u001b[0m eta \u001b[36m0:00:00\u001b[0m\n",
            "\u001b[?25hDownloading jsonpointer-3.0.0-py2.py3-none-any.whl (7.6 kB)\n",
            "Downloading h11-0.14.0-py3-none-any.whl (58 kB)\n",
            "\u001b[2K   \u001b[90m━━━━━━━━━━━━━━━━━━━━━━━━━━━━━━━━━━━━━━━━\u001b[0m \u001b[32m58.3/58.3 kB\u001b[0m \u001b[31m3.5 MB/s\u001b[0m eta \u001b[36m0:00:00\u001b[0m\n",
            "\u001b[?25hInstalling collected packages: tenacity, orjson, jsonpointer, h11, requests-toolbelt, jsonpatch, httpcore, httpx, langsmith, langchain-core, langchain-text-splitters, langchain\n",
            "  Attempting uninstall: tenacity\n",
            "    Found existing installation: tenacity 9.0.0\n",
            "    Uninstalling tenacity-9.0.0:\n",
            "      Successfully uninstalled tenacity-9.0.0\n",
            "Successfully installed h11-0.14.0 httpcore-1.0.6 httpx-0.27.2 jsonpatch-1.33 jsonpointer-3.0.0 langchain-0.3.2 langchain-core-0.3.9 langchain-text-splitters-0.3.0 langsmith-0.1.131 orjson-3.10.7 requests-toolbelt-1.0.0 tenacity-8.5.0\n",
            "Collecting langchain-community\n",
            "  Downloading langchain_community-0.3.1-py3-none-any.whl.metadata (2.8 kB)\n",
            "Requirement already satisfied: langchain-core in /usr/local/lib/python3.10/dist-packages (0.3.9)\n",
            "Requirement already satisfied: PyYAML>=5.3 in /usr/local/lib/python3.10/dist-packages (from langchain-community) (6.0.2)\n",
            "Requirement already satisfied: SQLAlchemy<3,>=1.4 in /usr/local/lib/python3.10/dist-packages (from langchain-community) (2.0.35)\n",
            "Requirement already satisfied: aiohttp<4.0.0,>=3.8.3 in /usr/local/lib/python3.10/dist-packages (from langchain-community) (3.10.8)\n",
            "Collecting dataclasses-json<0.7,>=0.5.7 (from langchain-community)\n",
            "  Downloading dataclasses_json-0.6.7-py3-none-any.whl.metadata (25 kB)\n",
            "Requirement already satisfied: langchain<0.4.0,>=0.3.1 in /usr/local/lib/python3.10/dist-packages (from langchain-community) (0.3.2)\n",
            "Requirement already satisfied: langsmith<0.2.0,>=0.1.125 in /usr/local/lib/python3.10/dist-packages (from langchain-community) (0.1.131)\n",
            "Requirement already satisfied: numpy<2,>=1 in /usr/local/lib/python3.10/dist-packages (from langchain-community) (1.26.4)\n",
            "Collecting pydantic-settings<3.0.0,>=2.4.0 (from langchain-community)\n",
            "  Downloading pydantic_settings-2.5.2-py3-none-any.whl.metadata (3.5 kB)\n",
            "Requirement already satisfied: requests<3,>=2 in /usr/local/lib/python3.10/dist-packages (from langchain-community) (2.32.3)\n",
            "Requirement already satisfied: tenacity!=8.4.0,<9.0.0,>=8.1.0 in /usr/local/lib/python3.10/dist-packages (from langchain-community) (8.5.0)\n",
            "Requirement already satisfied: jsonpatch<2.0,>=1.33 in /usr/local/lib/python3.10/dist-packages (from langchain-core) (1.33)\n",
            "Requirement already satisfied: packaging<25,>=23.2 in /usr/local/lib/python3.10/dist-packages (from langchain-core) (24.1)\n",
            "Requirement already satisfied: pydantic<3.0.0,>=2.5.2 in /usr/local/lib/python3.10/dist-packages (from langchain-core) (2.9.2)\n",
            "Requirement already satisfied: typing-extensions>=4.7 in /usr/local/lib/python3.10/dist-packages (from langchain-core) (4.12.2)\n",
            "Requirement already satisfied: aiohappyeyeballs>=2.3.0 in /usr/local/lib/python3.10/dist-packages (from aiohttp<4.0.0,>=3.8.3->langchain-community) (2.4.3)\n",
            "Requirement already satisfied: aiosignal>=1.1.2 in /usr/local/lib/python3.10/dist-packages (from aiohttp<4.0.0,>=3.8.3->langchain-community) (1.3.1)\n",
            "Requirement already satisfied: attrs>=17.3.0 in /usr/local/lib/python3.10/dist-packages (from aiohttp<4.0.0,>=3.8.3->langchain-community) (24.2.0)\n",
            "Requirement already satisfied: frozenlist>=1.1.1 in /usr/local/lib/python3.10/dist-packages (from aiohttp<4.0.0,>=3.8.3->langchain-community) (1.4.1)\n",
            "Requirement already satisfied: multidict<7.0,>=4.5 in /usr/local/lib/python3.10/dist-packages (from aiohttp<4.0.0,>=3.8.3->langchain-community) (6.1.0)\n",
            "Requirement already satisfied: yarl<2.0,>=1.12.0 in /usr/local/lib/python3.10/dist-packages (from aiohttp<4.0.0,>=3.8.3->langchain-community) (1.13.1)\n",
            "Requirement already satisfied: async-timeout<5.0,>=4.0 in /usr/local/lib/python3.10/dist-packages (from aiohttp<4.0.0,>=3.8.3->langchain-community) (4.0.3)\n",
            "Collecting marshmallow<4.0.0,>=3.18.0 (from dataclasses-json<0.7,>=0.5.7->langchain-community)\n",
            "  Downloading marshmallow-3.22.0-py3-none-any.whl.metadata (7.2 kB)\n",
            "Collecting typing-inspect<1,>=0.4.0 (from dataclasses-json<0.7,>=0.5.7->langchain-community)\n",
            "  Downloading typing_inspect-0.9.0-py3-none-any.whl.metadata (1.5 kB)\n",
            "Requirement already satisfied: jsonpointer>=1.9 in /usr/local/lib/python3.10/dist-packages (from jsonpatch<2.0,>=1.33->langchain-core) (3.0.0)\n",
            "Requirement already satisfied: langchain-text-splitters<0.4.0,>=0.3.0 in /usr/local/lib/python3.10/dist-packages (from langchain<0.4.0,>=0.3.1->langchain-community) (0.3.0)\n",
            "Requirement already satisfied: httpx<1,>=0.23.0 in /usr/local/lib/python3.10/dist-packages (from langsmith<0.2.0,>=0.1.125->langchain-community) (0.27.2)\n",
            "Requirement already satisfied: orjson<4.0.0,>=3.9.14 in /usr/local/lib/python3.10/dist-packages (from langsmith<0.2.0,>=0.1.125->langchain-community) (3.10.7)\n",
            "Requirement already satisfied: requests-toolbelt<2.0.0,>=1.0.0 in /usr/local/lib/python3.10/dist-packages (from langsmith<0.2.0,>=0.1.125->langchain-community) (1.0.0)\n",
            "Requirement already satisfied: annotated-types>=0.6.0 in /usr/local/lib/python3.10/dist-packages (from pydantic<3.0.0,>=2.5.2->langchain-core) (0.7.0)\n",
            "Requirement already satisfied: pydantic-core==2.23.4 in /usr/local/lib/python3.10/dist-packages (from pydantic<3.0.0,>=2.5.2->langchain-core) (2.23.4)\n",
            "Collecting python-dotenv>=0.21.0 (from pydantic-settings<3.0.0,>=2.4.0->langchain-community)\n",
            "  Downloading python_dotenv-1.0.1-py3-none-any.whl.metadata (23 kB)\n",
            "Requirement already satisfied: charset-normalizer<4,>=2 in /usr/local/lib/python3.10/dist-packages (from requests<3,>=2->langchain-community) (3.3.2)\n",
            "Requirement already satisfied: idna<4,>=2.5 in /usr/local/lib/python3.10/dist-packages (from requests<3,>=2->langchain-community) (3.10)\n",
            "Requirement already satisfied: urllib3<3,>=1.21.1 in /usr/local/lib/python3.10/dist-packages (from requests<3,>=2->langchain-community) (2.2.3)\n",
            "Requirement already satisfied: certifi>=2017.4.17 in /usr/local/lib/python3.10/dist-packages (from requests<3,>=2->langchain-community) (2024.8.30)\n",
            "Requirement already satisfied: greenlet!=0.4.17 in /usr/local/lib/python3.10/dist-packages (from SQLAlchemy<3,>=1.4->langchain-community) (3.1.1)\n",
            "Requirement already satisfied: anyio in /usr/local/lib/python3.10/dist-packages (from httpx<1,>=0.23.0->langsmith<0.2.0,>=0.1.125->langchain-community) (3.7.1)\n",
            "Requirement already satisfied: httpcore==1.* in /usr/local/lib/python3.10/dist-packages (from httpx<1,>=0.23.0->langsmith<0.2.0,>=0.1.125->langchain-community) (1.0.6)\n",
            "Requirement already satisfied: sniffio in /usr/local/lib/python3.10/dist-packages (from httpx<1,>=0.23.0->langsmith<0.2.0,>=0.1.125->langchain-community) (1.3.1)\n",
            "Requirement already satisfied: h11<0.15,>=0.13 in /usr/local/lib/python3.10/dist-packages (from httpcore==1.*->httpx<1,>=0.23.0->langsmith<0.2.0,>=0.1.125->langchain-community) (0.14.0)\n",
            "Collecting mypy-extensions>=0.3.0 (from typing-inspect<1,>=0.4.0->dataclasses-json<0.7,>=0.5.7->langchain-community)\n",
            "  Downloading mypy_extensions-1.0.0-py3-none-any.whl.metadata (1.1 kB)\n",
            "Requirement already satisfied: exceptiongroup in /usr/local/lib/python3.10/dist-packages (from anyio->httpx<1,>=0.23.0->langsmith<0.2.0,>=0.1.125->langchain-community) (1.2.2)\n",
            "Downloading langchain_community-0.3.1-py3-none-any.whl (2.4 MB)\n",
            "\u001b[2K   \u001b[90m━━━━━━━━━━━━━━━━━━━━━━━━━━━━━━━━━━━━━━━━\u001b[0m \u001b[32m2.4/2.4 MB\u001b[0m \u001b[31m25.4 MB/s\u001b[0m eta \u001b[36m0:00:00\u001b[0m\n",
            "\u001b[?25hDownloading dataclasses_json-0.6.7-py3-none-any.whl (28 kB)\n",
            "Downloading pydantic_settings-2.5.2-py3-none-any.whl (26 kB)\n",
            "Downloading marshmallow-3.22.0-py3-none-any.whl (49 kB)\n",
            "\u001b[2K   \u001b[90m━━━━━━━━━━━━━━━━━━━━━━━━━━━━━━━━━━━━━━━━\u001b[0m \u001b[32m49.3/49.3 kB\u001b[0m \u001b[31m3.0 MB/s\u001b[0m eta \u001b[36m0:00:00\u001b[0m\n",
            "\u001b[?25hDownloading python_dotenv-1.0.1-py3-none-any.whl (19 kB)\n",
            "Downloading typing_inspect-0.9.0-py3-none-any.whl (8.8 kB)\n",
            "Downloading mypy_extensions-1.0.0-py3-none-any.whl (4.7 kB)\n",
            "Installing collected packages: python-dotenv, mypy-extensions, marshmallow, typing-inspect, pydantic-settings, dataclasses-json, langchain-community\n",
            "Successfully installed dataclasses-json-0.6.7 langchain-community-0.3.1 marshmallow-3.22.0 mypy-extensions-1.0.0 pydantic-settings-2.5.2 python-dotenv-1.0.1 typing-inspect-0.9.0\n",
            "Requirement already satisfied: python-dotenv in /usr/local/lib/python3.10/dist-packages (1.0.1)\n",
            "Collecting openai==0.28\n",
            "  Downloading openai-0.28.0-py3-none-any.whl.metadata (13 kB)\n",
            "Requirement already satisfied: requests>=2.20 in /usr/local/lib/python3.10/dist-packages (from openai==0.28) (2.32.3)\n",
            "Requirement already satisfied: tqdm in /usr/local/lib/python3.10/dist-packages (from openai==0.28) (4.66.5)\n",
            "Requirement already satisfied: aiohttp in /usr/local/lib/python3.10/dist-packages (from openai==0.28) (3.10.8)\n",
            "Requirement already satisfied: charset-normalizer<4,>=2 in /usr/local/lib/python3.10/dist-packages (from requests>=2.20->openai==0.28) (3.3.2)\n",
            "Requirement already satisfied: idna<4,>=2.5 in /usr/local/lib/python3.10/dist-packages (from requests>=2.20->openai==0.28) (3.10)\n",
            "Requirement already satisfied: urllib3<3,>=1.21.1 in /usr/local/lib/python3.10/dist-packages (from requests>=2.20->openai==0.28) (2.2.3)\n",
            "Requirement already satisfied: certifi>=2017.4.17 in /usr/local/lib/python3.10/dist-packages (from requests>=2.20->openai==0.28) (2024.8.30)\n",
            "Requirement already satisfied: aiohappyeyeballs>=2.3.0 in /usr/local/lib/python3.10/dist-packages (from aiohttp->openai==0.28) (2.4.3)\n",
            "Requirement already satisfied: aiosignal>=1.1.2 in /usr/local/lib/python3.10/dist-packages (from aiohttp->openai==0.28) (1.3.1)\n",
            "Requirement already satisfied: attrs>=17.3.0 in /usr/local/lib/python3.10/dist-packages (from aiohttp->openai==0.28) (24.2.0)\n",
            "Requirement already satisfied: frozenlist>=1.1.1 in /usr/local/lib/python3.10/dist-packages (from aiohttp->openai==0.28) (1.4.1)\n",
            "Requirement already satisfied: multidict<7.0,>=4.5 in /usr/local/lib/python3.10/dist-packages (from aiohttp->openai==0.28) (6.1.0)\n",
            "Requirement already satisfied: yarl<2.0,>=1.12.0 in /usr/local/lib/python3.10/dist-packages (from aiohttp->openai==0.28) (1.13.1)\n",
            "Requirement already satisfied: async-timeout<5.0,>=4.0 in /usr/local/lib/python3.10/dist-packages (from aiohttp->openai==0.28) (4.0.3)\n",
            "Requirement already satisfied: typing-extensions>=4.1.0 in /usr/local/lib/python3.10/dist-packages (from multidict<7.0,>=4.5->aiohttp->openai==0.28) (4.12.2)\n",
            "Downloading openai-0.28.0-py3-none-any.whl (76 kB)\n",
            "\u001b[2K   \u001b[90m━━━━━━━━━━━━━━━━━━━━━━━━━━━━━━━━━━━━━━━━\u001b[0m \u001b[32m76.5/76.5 kB\u001b[0m \u001b[31m1.8 MB/s\u001b[0m eta \u001b[36m0:00:00\u001b[0m\n",
            "\u001b[?25hInstalling collected packages: openai\n",
            "Successfully installed openai-0.28.0\n"
          ]
        }
      ],
      "source": [
        "!pip install langchain\n",
        "!pip install langchain-community langchain-core\n",
        "!pip install python-dotenv\n",
        "!pip install openai==0.28"
      ]
    },
    {
      "cell_type": "code",
      "execution_count": null,
      "metadata": {
        "id": "VMtmx7n8ZDpQ"
      },
      "outputs": [],
      "source": [
        "import os\n",
        "from dotenv import load_dotenv\n",
        "from langchain.prompts import PromptTemplate\n",
        "from langchain.llms import OpenAI\n",
        "from langchain.chains import SimpleSequentialChain\n",
        "from langchain.chains import LLMChain\n",
        "from langchain.prompts import PromptTemplate\n",
        "from langchain.agents import Tool\n",
        "from langchain.prompts import PromptTemplate\n",
        "from langchain.chat_models import ChatOpenAI\n",
        "from langchain import OpenAI\n",
        "from langchain.chat_models import ChatOpenAI\n",
        "from langchain.schema import HumanMessage, AIMessage\n",
        "import pandas as pd\n",
        "from langchain.memory import ConversationBufferMemory\n",
        "import re\n",
        "from collections import Counter\n",
        "from langchain.agents import initialize_agent, AgentType"
      ]
    },
    {
      "cell_type": "code",
      "execution_count": null,
      "metadata": {
        "id": "JYAdAfW5Ythu"
      },
      "outputs": [],
      "source": [
        "# Erstellen und Schreiben der .env-Datei zum testen\n",
        "with open(\".env\", \"w\") as f:\n",
        "    f.write(\n",
        "        \"OPENAI_API_KEY='<insert your key here>'\\n\"\n",
        "    )\n",
        "\n",
        "# Lädt die Umgebungsvariablen aus der .env-Datei\n",
        "load_dotenv()\n",
        "\n",
        "openai_api_key = os.getenv(\"OPENAI_API_KEY\")"
      ]
    },
    {
      "cell_type": "code",
      "source": [
        "# Initialisiere das Sprachmodell (LLM)\n",
        "llm = ChatOpenAI(temperature=0.3, model=\"gpt-4o-mini\", openai_api_key=openai_api_key)\n",
        "\n",
        "llm2 = ChatOpenAI(temperature=0.3, model=\"gpt-4o-mini\", openai_api_key=openai_api_key)"
      ],
      "metadata": {
        "id": "ILp1e0Un7_Xm",
        "colab": {
          "base_uri": "https://localhost:8080/"
        },
        "outputId": "72889e76-7e63-4174-df27-71c51c3e8470"
      },
      "execution_count": null,
      "outputs": [
        {
          "output_type": "stream",
          "name": "stderr",
          "text": [
            "<ipython-input-4-5c18a5bf2925>:2: LangChainDeprecationWarning: The class `ChatOpenAI` was deprecated in LangChain 0.0.10 and will be removed in 1.0. An updated version of the class exists in the :class:`~langchain-openai package and should be used instead. To use it run `pip install -U :class:`~langchain-openai` and import as `from :class:`~langchain_openai import ChatOpenAI``.\n",
            "  llm = ChatOpenAI(temperature=0.3, model=\"gpt-4o-mini\", openai_api_key=openai_api_key)\n"
          ]
        }
      ]
    },
    {
      "cell_type": "code",
      "source": [
        "memory = ConversationBufferMemory()"
      ],
      "metadata": {
        "id": "GmwBYWkm57PK",
        "colab": {
          "base_uri": "https://localhost:8080/"
        },
        "outputId": "7fa549d3-5635-42e7-924c-2805f279e3be"
      },
      "execution_count": null,
      "outputs": [
        {
          "output_type": "stream",
          "name": "stderr",
          "text": [
            "<ipython-input-5-a33ea3a4cc0d>:1: LangChainDeprecationWarning: Please see the migration guide at: https://python.langchain.com/docs/versions/migrating_memory/\n",
            "  memory = ConversationBufferMemory()\n"
          ]
        }
      ]
    },
    {
      "cell_type": "code",
      "source": [
        "# Main Agent System Prompt\n",
        "agentSystemPrompt = \"\"\"\n",
        "    Du bist auf Regeln basierender Agent in einem Multiagenten-System. Deine Aufgabe ist die identifizierung eines vorliegenden Szenarios zu einer Rechnungsbuchung.\n",
        "\n",
        "    - Schließe diesen Vorgang ausschließlich mit der Nennung des jeweiligen Szenarios ab.\n",
        "\n",
        "    Antwortformat:\n",
        "    - Wenn deine Antwort final ist, gib ausschließlich die Nummer des identifizierten Szenarios aus, z.B. \"4\".\n",
        "    - Gib die finale Antwort ohne zusätzliche Erläuterungen und Erklärungen aus.\n",
        "\n",
        "    Du musst immer folgende Schritte in dieser Reihenfolge ausführen.\n",
        "\n",
        "  1. Prüfen der Korrespondenz\n",
        "  2. Ausgabe der Szenarios\n",
        "  3. Prüfen, ob die PO über genügend Budget verfügt, um die Rechnung zu Buchen\n",
        "  4. Wahl des Szenarios und nutzung des final_check tools\n",
        "  5. Evaluierung der Antwort des final_checks\n",
        "  6. Finale Entscheidung für ein Szenario\n",
        "\n",
        "    \"\"\""
      ],
      "metadata": {
        "id": "_D2sknD7B7en"
      },
      "execution_count": null,
      "outputs": []
    },
    {
      "cell_type": "code",
      "source": [
        "# Scenarios\n",
        "\n",
        "scenarioDatabase = \"\"\"\n",
        "1. Die PO verfügt über genügend Budget, um die Rechnung zu buchen.\n",
        "2. Die PO verfügt nicht über genügend Budget, um die Rechnung zu buchen, und der Requester betont dass er nicht zuständig sei und es gibt keine weitere Information wer zuständig sein könnte.\n",
        "3. Die PO verfügt nicht über genügend Budget, um die Rechnung zu buchen, und der Requester hat auf eine andere PO verwiesen, welche über genügend GR verfügt.\n",
        "4. Die PO verfügt nicht über genügend Budget, um die Rechnung zu buchen, und der Requester hat auf eine andere PO verwiesen, welche auch nicht über genügend GR verfügt.\n",
        "5. Die PO verfügt nicht über genügend Budget, es wurde eine neue PO genannt, welche jedoch ungültig ist.\n",
        "6. Die PO verfügt nicht über genügend Budget, um die Rechnung zu buchen, aber der Requester hat auf eine andere Person verwiesen, die im Prozess weiterhelfen kann.\n",
        "7. Szenario unklar bzw Szenario nicht definierbar\n",
        "\n",
        "\"\"\""
      ],
      "metadata": {
        "id": "MpB1ynJVG6Wm"
      },
      "execution_count": null,
      "outputs": []
    },
    {
      "cell_type": "code",
      "execution_count": null,
      "metadata": {
        "id": "i1UAijNnYTWd"
      },
      "outputs": [],
      "source": [
        "# Funktion für die PO-Datenbank\n",
        "\n",
        "def check_PO_database(input_text: str):\n",
        "    try:\n",
        "        # Suche nach der PO im DataFrame\n",
        "        result = df[df[\"PO\"] == str(input_text).strip()]\n",
        "\n",
        "        # Wenn kein Ergebnis gefunden wird, wirft es eine Exception\n",
        "        if result.empty:\n",
        "            raise ValueError(f\"PO {input_text} wurde nicht gefunden.\")\n",
        "\n",
        "        return result\n",
        "\n",
        "    except ValueError as e:\n",
        "        # Gibt die Fehlermeldung zurück, falls die PO nicht gefunden wurde\n",
        "        return str(e)"
      ]
    },
    {
      "cell_type": "code",
      "source": [
        "# Example Data\n",
        "\n",
        "PO = \"4111234567\"\n",
        "Invoice_Amount = 450\n",
        "\n",
        "# Example Agent Szenario\n",
        "agentSzenario = f\"\"\"\n",
        "\n",
        "Aktuelle Situation:\n",
        "\n",
        "Rechnungssumme: {Invoice_Amount}€,\n",
        "\n",
        "Bestellnummer: {PO}\n",
        "\n",
        "Ergebnis der Bestellnummernprüfung für PO {PO}:\n",
        "\n",
        "{check_PO_database(\"4111234567\")}\n",
        "\n",
        "\"\"\"\n",
        "\n",
        "# Example PO & invoice Data\n",
        "poDatabase = {\n",
        "    \"PO\": [\"4111234567\", \"4506543210\", \"4501973854\"],\n",
        "    \"OriginalBudget\": [\"462\", \"242\", \"700\"],\n",
        "    \"PostedInvoices\": [\"Invoice 15889 over 120€, Invoice 15890 over 122€\", \"Invoice 15112 over 50€\", \"\"],\n",
        "    \"RemainingBudget\": [\"220\", \"120\", \"700\"]\n",
        "}\n",
        "\n",
        "# Erstellen des DataFrames\n",
        "df = pd.DataFrame(poDatabase)\n",
        "\n",
        "# Example Workflow Correspondence\n",
        "correspondence = \"\"\"\n",
        "17.09.2024: P2P-Team: 'Hi Gerald, leider reicht das Budget nicht aus, um die RE zu buchen.'\n",
        "18.09.2024: Gerald: 'Kann auf eine andere PO: 4506543210 oder auf 4501973854, je nachdem wo noch was frei ist'\n",
        "\"\"\"\n",
        "\n",
        "# Bestellnummernsuche\n",
        "bestellnummern = re.findall(r'\\b\\d{10}\\b', correspondence)\n",
        "\n",
        "# Bestellnummernprüfung und Ergebnis anhängen\n",
        "correspondence += \"\\nErgebnis der automatischen Bestellnummernprüfungen:\\n\"\n",
        "\n",
        "for bestellnummer in bestellnummern:\n",
        "    po_data = df[df[\"PO\"] == bestellnummer]\n",
        "    if not po_data.empty:\n",
        "        correspondence += f\"\\nBestellnummer {bestellnummer} gefunden:\\n\"\n",
        "        correspondence += po_data.to_string(index=False)\n",
        "    else:\n",
        "        correspondence += f\"\\nBestellnummer {bestellnummer} nicht gefunden.\\n\"\n",
        "\n",
        "# Ergebnis anzeigen\n",
        "print(correspondence)\n"
      ],
      "metadata": {
        "id": "oBKy9brCEG1G",
        "colab": {
          "base_uri": "https://localhost:8080/"
        },
        "outputId": "23da7e33-915b-4fa5-fe7d-969a4146c112"
      },
      "execution_count": null,
      "outputs": [
        {
          "output_type": "stream",
          "name": "stdout",
          "text": [
            "\n",
            "17.09.2024: P2P-Team: 'Hi Gerald, leider reicht das Budget nicht aus, um die RE zu buchen.'\n",
            "18.09.2024: Gerald: 'Kann auf eine andere PO: 4506543210 oder auf 4501973854, je nachdem wo noch was frei ist'\n",
            "\n",
            "Ergebnis der automatischen Bestellnummernprüfungen:\n",
            "\n",
            "Bestellnummer 4506543210 gefunden:\n",
            "        PO OriginalBudget         PostedInvoices RemainingBudget\n",
            "4506543210            242 Invoice 15112 over 50€             120\n",
            "Bestellnummer 4501973854 gefunden:\n",
            "        PO OriginalBudget PostedInvoices RemainingBudget\n",
            "4501973854            700                            700\n"
          ]
        }
      ]
    },
    {
      "cell_type": "code",
      "source": [
        "# Korrespondenz\n",
        "\n",
        "def get_correspondence(item: str):\n",
        "  return (correspondence)\n",
        "\n",
        "correspondence_tool = Tool(\n",
        "    name=\"Get Correspondence\",\n",
        "    func=get_correspondence,\n",
        "    description=\"Gibt eine Zusammenfassung des bisherigen Austauschs mit dem Requester aus, auf die einzugehen ist.\"\n",
        ")"
      ],
      "metadata": {
        "id": "yP4Lii6xDzkf"
      },
      "execution_count": null,
      "outputs": []
    },
    {
      "cell_type": "code",
      "source": [
        "# Scenario-Tool\n",
        "\n",
        "def get_scenarios(input: str):\n",
        "  return scenarioDatabase\n",
        "\n",
        "scenarios_tool = Tool(\n",
        "    name=\"Get Scenarios\",\n",
        "    func=get_scenarios,\n",
        "    description=\"Gibt dir die zur Verfügung stehenden Szenarien aus.\"\n",
        ")"
      ],
      "metadata": {
        "id": "YOvIx7ylDwRX"
      },
      "execution_count": null,
      "outputs": []
    },
    {
      "cell_type": "code",
      "source": [
        "# Finales Prüfungs-Tool\n",
        "\n",
        "def final_check(input: str):\n",
        "    global process_checked\n",
        "    if process_checked:\n",
        "      return(\"Der Prozess wurde bereits einmal geprüft, bitte schließe den Vorgang ab.\")\n",
        "    else:\n",
        "      process_checked = True\n",
        "      final_prompt = f\"\"\"\n",
        "      Du bist ein Agent in einem Multiagenten-System und deine Aufgabe ist es, das ermittelte Szenario zu prüfen.\n",
        "\n",
        "      Antwortformat: Umfassende Prüfung des Prozesses: Hat der Agent wirklich alles validiert, um das jeweilige Szenario garantieren zu können? Falls nicht, sende ihm eine klare Handlungsaufforderung.\n",
        "\n",
        "      Wichtige Information: Es kann ausschließlich eines der unten stehenden Szenarien als Ergebnis herauskommen, nichts anderes.\n",
        "\n",
        "      Budget der Bestellnummer:\n",
        "      {check_PO_database(\"4111234567\")}\n",
        "\n",
        "      Parameter:\n",
        "      {agentSzenario}\n",
        "\n",
        "      Korrespondenz:\n",
        "      {correspondence}\n",
        "\n",
        "      Szenarien:\n",
        "      {scenarioDatabase}\n",
        "\n",
        "\n",
        "\n",
        "      Antwort des Hauptagenten: {input}\n",
        "      \"\"\"\n",
        "      # Invoke LLM direkt ohne Tools\n",
        "      rules_used = True\n",
        "      return llm2.invoke([HumanMessage(content=final_prompt)]).content\n",
        "\n",
        "\n",
        "\n",
        "final_tool = Tool(\n",
        "    name=\"Final Check\",\n",
        "    func=final_check,\n",
        "    description=\"Wenn du dir sicher bist was zu tun ist, wird hier eine finale Prüfung durchgeführt.\"\n",
        ")"
      ],
      "metadata": {
        "id": "1I0Wo6ltLuUT"
      },
      "execution_count": null,
      "outputs": []
    },
    {
      "cell_type": "code",
      "execution_count": null,
      "metadata": {
        "id": "VOGn_cTAcGn6"
      },
      "outputs": [],
      "source": [
        "\n",
        "\n",
        "# Liste der Tools, die der Agent nutzen kann\n",
        "tools = [correspondence_tool, scenarios_tool, final_tool]\n",
        "\n",
        "# Initialisiere den Agenten\n",
        "agent = initialize_agent(\n",
        "    tools=tools,\n",
        "    llm=llm,\n",
        "    agent=AgentType.ZERO_SHOT_REACT_DESCRIPTION,\n",
        "    verbose=False,\n",
        "    memory=memory\n",
        ")\n"
      ]
    },
    {
      "cell_type": "code",
      "source": [
        "# Hier nur der Test eines einzigen Durchgangs mit verbose=True, um die Gedankengänge zu prüfen\n",
        "\n",
        "global status\n",
        "status = \"Started\"\n",
        "global process_checked\n",
        "process_checked = False\n",
        "\n",
        "# Initialisiere den Agenten\n",
        "agent2 = initialize_agent(\n",
        "    tools=tools,\n",
        "    llm=llm,\n",
        "    agent=AgentType.ZERO_SHOT_REACT_DESCRIPTION,\n",
        "    verbose=True,\n",
        "    memory=memory\n",
        ")\n",
        "\n",
        "response = agent2.invoke(\n",
        "    agentSystemPrompt + agentSzenario,\n",
        "    max_iterations=50,\n",
        "    timeout=120\n",
        "    )\n",
        "\n",
        "print(response)"
      ],
      "metadata": {
        "collapsed": true,
        "id": "sYNSOyJEMPKt",
        "colab": {
          "base_uri": "https://localhost:8080/"
        },
        "outputId": "66700887-b709-4364-9ec9-9cf9b9d4245e"
      },
      "execution_count": null,
      "outputs": [
        {
          "output_type": "stream",
          "name": "stdout",
          "text": [
            "\n",
            "\n",
            "\u001b[1m> Entering new AgentExecutor chain...\u001b[0m\n",
            "\u001b[32;1m\u001b[1;3mIch werde zunächst die Korrespondenz prüfen, um alle relevanten Informationen zu sammeln.  \n",
            "Action: Get Correspondence  \n",
            "Action Input: \"\"  \u001b[0m\n",
            "Observation: \u001b[36;1m\u001b[1;3m\n",
            "17.09.2024: P2P-Team: 'Hi Gerald, leider reicht das Budget nicht aus, um die RE zu buchen.'\n",
            "18.09.2024: Gerald: 'Kann auf eine andere PO: 4506543210 oder auf 4501973854, je nachdem wo noch was frei ist'\n",
            "\n",
            "Ergebnis der automatischen Bestellnummernprüfungen:\n",
            "\n",
            "Bestellnummer 4506543210 gefunden:\n",
            "        PO OriginalBudget         PostedInvoices RemainingBudget\n",
            "4506543210            242 Invoice 15112 over 50€             120\n",
            "Bestellnummer 4501973854 gefunden:\n",
            "        PO OriginalBudget PostedInvoices RemainingBudget\n",
            "4501973854            700                            700\u001b[0m\n",
            "Thought:\u001b[32;1m\u001b[1;3mIch habe nun die Korrespondenz geprüft und relevante Informationen über die Budgetverfügbarkeit erhalten. Es gibt zwei alternative Bestellnummern, die verwendet werden können: 4506543210 und 4501973854. Ich werde nun die verfügbaren Szenarien abrufen.  \n",
            "Action: Get Scenarios  \n",
            "Action Input: \"\"  \u001b[0m\n",
            "Observation: \u001b[33;1m\u001b[1;3m\n",
            "1. Die PO verfügt über genügend Budget, um die Rechnung zu buchen.\n",
            "2. Die PO verfügt nicht über genügend Budget, um die Rechnung zu buchen, und der Requester betont dass er nicht zuständig sei und es gibt keine weitere Information wer zuständig sein könnte.\n",
            "3. Die PO verfügt nicht über genügend Budget, um die Rechnung zu buchen, und der Requester hat auf eine andere PO verwiesen, welche über genügend GR verfügt.\n",
            "4. Die PO verfügt nicht über genügend Budget, um die Rechnung zu buchen, und der Requester hat auf eine andere PO verwiesen, welche auch nicht über genügend GR verfügt.\n",
            "5. Die PO verfügt nicht über genügend Budget, es wurde eine neue PO genannt, welche jedoch ungültig ist.\n",
            "6. Die PO verfügt nicht über genügend Budget, um die Rechnung zu buchen, aber der Requester hat auf eine andere Person verwiesen, die im Prozess weiterhelfen kann.\n",
            "7. Szenario unklar bzw Szenario nicht definierbar\n",
            "\n",
            "\u001b[0m\n",
            "Thought:\u001b[32;1m\u001b[1;3mIch habe die verfügbaren Szenarien erhalten. Da die ursprüngliche PO nicht über genügend Budget verfügt, aber der Requester auf zwei alternative POs verwiesen hat, werde ich nun prüfen, ob eine der alternativen POs über genügend Budget verfügt, um die Rechnung zu buchen. \n",
            "\n",
            "Die PO 4506543210 hat ein verbleibendes Budget von 120€, was nicht ausreicht, um die Rechnung von 450€ zu buchen. Die PO 4501973854 hat jedoch ein verbleibendes Budget von 700€, was ausreicht. \n",
            "\n",
            "Ich wähle nun das entsprechende Szenario aus und nutze das final_check Tool.  \n",
            "Action: Final Check  \n",
            "Action Input: \"3\"  \u001b[0m\n",
            "Observation: \u001b[38;5;200m\u001b[1;3mUmfassende Prüfung des Prozesses: \n",
            "\n",
            "Die aktuelle Situation zeigt, dass die ursprüngliche Bestellnummer (PO 4111234567) ein Budget von 462€ hat, jedoch bereits Rechnungen in Höhe von insgesamt 242€ gebucht wurden, was zu einem verbleibenden Budget von 220€ führt. Die Rechnungssumme von 450€ übersteigt das verbleibende Budget, daher kann diese Rechnung nicht über diese PO gebucht werden.\n",
            "\n",
            "Gerald hat jedoch auf zwei alternative POs verwiesen: \n",
            "1. PO 4506543210 mit einem verbleibenden Budget von 120€, was nicht ausreicht, um die Rechnung von 450€ zu buchen.\n",
            "2. PO 4501973854 mit einem verbleibenden Budget von 700€, was ausreichend ist, um die Rechnung zu buchen.\n",
            "\n",
            "Da Gerald auf die PO 4501973854 verwiesen hat, die über genügend Budget verfügt, ist das Szenario 3 korrekt, da die PO über genügend Budget verfügt, um die Rechnung zu buchen.\n",
            "\n",
            "Es wurde alles validiert, und die Entscheidung ist klar. Es gibt keine weiteren Handlungsaufforderungen erforderlich.\n",
            "\n",
            "Zusammenfassend: Die Antwort des Hauptagenten ist korrekt.\u001b[0m\n",
            "Thought:\u001b[32;1m\u001b[1;3mIch habe nun die finale Antwort.  \n",
            "Final Answer: 3\u001b[0m\n",
            "\n",
            "\u001b[1m> Finished chain.\u001b[0m\n",
            "{'input': '\\n    Du bist auf Regeln basierender Agent in einem Multiagenten-System. Deine Aufgabe ist die identifizierung eines vorliegenden Szenarios zu einer Rechnungsbuchung.\\n\\n    - Schließe diesen Vorgang ausschließlich mit der Nennung des jeweiligen Szenarios ab.\\n\\n    Antwortformat:\\n    - Wenn deine Antwort final ist, gib ausschließlich die Nummer des identifizierten Szenarios aus, z.B. \"4\".\\n    - Gib die finale Antwort ohne zusätzliche Erläuterungen und Erklärungen aus.\\n\\n    Du musst immer folgende Schritte in dieser Reihenfolge ausführen.\\n\\n  1. Prüfen der Korrespondenz\\n  2. Ausgabe der Szenarios\\n  3. Prüfen, ob die PO über genügend Budget verfügt, um die Rechnung zu Buchen\\n  4. Wahl des Szenarios und nutzung des final_check tools\\n  5. Evaluierung der Antwort des final_checks\\n  6. Finale Entscheidung für ein Szenario\\n\\n    \\n\\nAktuelle Situation: \\n\\nRechnungssumme: 450€, \\n\\nBestellnummer: 4111234567\\n\\nErgebnis der Bestellnummernprüfung für PO 4111234567: \\n\\n           PO OriginalBudget  \\\\\\n0  4111234567            462   \\n\\n                                     PostedInvoices RemainingBudget  \\n0  Invoice 15889 over 120€, Invoice 15890 over 122€             220  \\n\\n', 'history': 'Human: \\n    Du bist auf Regeln basierender Agent in einem Multiagenten-System. Deine Aufgabe ist die identifizierung eines vorliegenden Szenarios zu einer Rechnungsbuchung.\\n\\n    - Schließe diesen Vorgang ausschließlich mit der Nennung des jeweiligen Szenarios ab.\\n\\n    Antwortformat:\\n    - Wenn deine Antwort final ist, gib ausschließlich die Nummer des identifizierten Szenarios aus, z.B. \"4\".\\n    - Gib die finale Antwort ohne zusätzliche Erläuterungen und Erklärungen aus.\\n\\n    Du musst immer folgende Schritte in dieser Reihenfolge ausführen.\\n\\n  1. Prüfen der Korrespondenz\\n  2. Ausgabe der Szenarios\\n  3. Prüfen, ob die PO über genügend Budget verfügt, um die Rechnung zu Buchen\\n  4. Wahl des Szenarios und nutzung des final_check tools\\n  5. Evaluierung der Antwort des final_checks\\n  6. Finale Entscheidung für ein Szenario\\n\\n    \\n\\nAktuelle Situation: \\n\\nRechnungssumme: 450€, \\n\\nBestellnummer: 4111234567\\n\\nErgebnis der Bestellnummernprüfung für PO 4111234567: \\n\\n           PO OriginalBudget  \\\\\\n0  4111234567            462   \\n\\n                                     PostedInvoices RemainingBudget  \\n0  Invoice 15889 over 120€, Invoice 15890 over 122€             220  \\n\\n\\nAI: 5\\nHuman: \\n    Du bist auf Regeln basierender Agent in einem Multiagenten-System. Deine Aufgabe ist die identifizierung eines vorliegenden Szenarios zu einer Rechnungsbuchung.\\n\\n    - Schließe diesen Vorgang ausschließlich mit der Nennung des jeweiligen Szenarios ab.\\n\\n    Antwortformat:\\n    - Wenn deine Antwort final ist, gib ausschließlich die Nummer des identifizierten Szenarios aus, z.B. \"4\".\\n    - Gib die finale Antwort ohne zusätzliche Erläuterungen und Erklärungen aus.\\n\\n    Du musst immer folgende Schritte in dieser Reihenfolge ausführen.\\n\\n  1. Prüfen der Korrespondenz\\n  2. Ausgabe der Szenarios\\n  3. Prüfen, ob die PO über genügend Budget verfügt, um die Rechnung zu Buchen\\n  4. Wahl des Szenarios und nutzung des final_check tools\\n  5. Evaluierung der Antwort des final_checks\\n  6. Finale Entscheidung für ein Szenario\\n\\n    \\n\\nAktuelle Situation: \\n\\nRechnungssumme: 450€, \\n\\nBestellnummer: 4111234567\\n\\nErgebnis der Bestellnummernprüfung für PO 4111234567: \\n\\n           PO OriginalBudget  \\\\\\n0  4111234567            462   \\n\\n                                     PostedInvoices RemainingBudget  \\n0  Invoice 15889 over 120€, Invoice 15890 over 122€             220  \\n\\n\\nAI: 5\\nHuman: \\n    Du bist auf Regeln basierender Agent in einem Multiagenten-System. Deine Aufgabe ist die identifizierung eines vorliegenden Szenarios zu einer Rechnungsbuchung.\\n\\n    - Schließe diesen Vorgang ausschließlich mit der Nennung des jeweiligen Szenarios ab.\\n\\n    Antwortformat:\\n    - Wenn deine Antwort final ist, gib ausschließlich die Nummer des identifizierten Szenarios aus, z.B. \"4\".\\n    - Gib die finale Antwort ohne zusätzliche Erläuterungen und Erklärungen aus.\\n\\n    Du musst immer folgende Schritte in dieser Reihenfolge ausführen.\\n\\n  1. Prüfen der Korrespondenz\\n  2. Ausgabe der Szenarios\\n  3. Prüfen, ob die PO über genügend Budget verfügt, um die Rechnung zu Buchen\\n  4. Wahl des Szenarios und nutzung des final_check tools\\n  5. Evaluierung der Antwort des final_checks\\n  6. Finale Entscheidung für ein Szenario\\n\\n    \\n\\nAktuelle Situation: \\n\\nRechnungssumme: 450€, \\n\\nBestellnummer: 4111234567\\n\\nErgebnis der Bestellnummernprüfung für PO 4111234567: \\n\\n           PO OriginalBudget  \\\\\\n0  4111234567            462   \\n\\n                                     PostedInvoices RemainingBudget  \\n0  Invoice 15889 over 120€, Invoice 15890 over 122€             220  \\n\\n\\nAI: 7', 'output': '3'}\n"
          ]
        }
      ]
    },
    {
      "cell_type": "code",
      "execution_count": null,
      "metadata": {
        "id": "D1kOwYj3cIjq"
      },
      "outputs": [],
      "source": [
        "def get_vote():\n",
        "  memory.chat_memory.clear()\n",
        "  determined_scenarios = []\n",
        "\n",
        "  for x in range(1): #Altes Majority-Voting System für die Gruppenvotes, steht gerade redundanterweise auf \"1\",\n",
        "  #wurde durch das neue System mit Konvergenz unten ersetzt aber noch nicht angepasst\n",
        "\n",
        "    global status\n",
        "    status = \"Started\"\n",
        "    global process_checked\n",
        "    process_checked = False\n",
        "\n",
        "    response = agent.invoke(\n",
        "        agentSystemPrompt + agentSzenario,\n",
        "        max_iterations=50,\n",
        "        timeout=120\n",
        "        )\n",
        "\n",
        "  extracted_numbers = []\n",
        "  ai_messages = [message for message in memory.chat_memory.messages if isinstance(message, AIMessage)]\n",
        "\n",
        "  for ai_message in ai_messages:\n",
        "    extracted_numbers.append(ai_message.content)\n",
        "\n",
        "  numbers_as_integers = list(map(int, extracted_numbers))\n",
        "  number_counts = Counter(numbers_as_integers)\n",
        "  majority_vote = number_counts.most_common(1)[0][0]\n",
        "\n",
        "  return(majority_vote)"
      ]
    },
    {
      "cell_type": "code",
      "source": [
        "def monitor_convergence(num_groups, outer_iterations, convergence_threshold, min_iterations):\n",
        "    converged = False\n",
        "    iteration_results = []\n",
        "\n",
        "    for outer_iteration in range(outer_iterations):\n",
        "        group_votes = []\n",
        "\n",
        "        # Führe get_vote() für jede Gruppe aus\n",
        "        for _ in range(num_groups):  # z.B. 5 Gruppen\n",
        "            group_vote = get_vote()\n",
        "            group_votes.append(group_vote)\n",
        "\n",
        "        # Berechne das finale Majority Vote über alle Gruppen hinweg\n",
        "        final_majority_vote = Counter(group_votes).most_common(1)[0][0]\n",
        "        iteration_results.append(final_majority_vote)\n",
        "\n",
        "        # Konvergenzprüfung erst nach min_iterations Durchläufen\n",
        "        if len(iteration_results) >= min_iterations:\n",
        "            convergence_rate = sum([1 for i in iteration_results if i == final_majority_vote]) / len(iteration_results)\n",
        "            print(f\"Durchlauf {outer_iteration + 1}: Mehrheit = {final_majority_vote}, Konvergenzrate = {convergence_rate:.2f}\")\n",
        "\n",
        "            if convergence_rate >= convergence_threshold:\n",
        "                print(f\"Konvergenz erreicht bei Durchlauf {outer_iteration + 1} mit einer Konvergenzrate von {convergence_rate:.2f}\")\n",
        "                converged = True\n",
        "                break\n",
        "        else:\n",
        "            # Ausgabe ohne Konvergenzrate\n",
        "            print(f\"Durchlauf {outer_iteration + 1}: Mehrheit = {final_majority_vote}\")\n",
        "\n",
        "    if not converged:\n",
        "        print(f\"Maximale Durchläufe ({outer_iterations}) erreicht ohne vollständige Konvergenz.\")\n",
        "\n",
        "# Testen des Tools mit 5 Durchläufen. Hier können wichtige Parameter wie die Konvergenzrate, sowie die inneren und äußeren Iterationen eingestellt werden\n",
        "monitor_convergence(num_groups=1, outer_iterations=10, convergence_threshold=0.50, min_iterations=5)"
      ],
      "metadata": {
        "colab": {
          "base_uri": "https://localhost:8080/"
        },
        "id": "Cp4zzyrZ4k1F",
        "outputId": "2827f4c7-c130-41ce-807c-215bc1a0a3ac"
      },
      "execution_count": null,
      "outputs": [
        {
          "output_type": "stream",
          "name": "stdout",
          "text": [
            "Durchlauf 1: Mehrheit = 3\n",
            "Durchlauf 2: Mehrheit = 3\n",
            "Durchlauf 3: Mehrheit = 3\n",
            "Durchlauf 4: Mehrheit = 3\n",
            "Durchlauf 5: Mehrheit = 3, Konvergenzrate = 1.00\n",
            "Konvergenz erreicht bei Durchlauf 5 mit einer Konvergenzrate von 1.00\n"
          ]
        }
      ]
    }
  ],
  "metadata": {
    "colab": {
      "provenance": [],
      "toc_visible": true,
      "authorship_tag": "ABX9TyMkM+m1FJi3uEoazF5e459c",
      "include_colab_link": true
    },
    "kernelspec": {
      "display_name": "Python 3",
      "name": "python3"
    },
    "language_info": {
      "name": "python"
    }
  },
  "nbformat": 4,
  "nbformat_minor": 0
}